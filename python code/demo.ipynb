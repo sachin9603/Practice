{
 "cells": [
  {
   "cell_type": "code",
   "execution_count": null,
   "metadata": {},
   "outputs": [
    {
     "name": "stdout",
     "output_type": "stream",
     "text": [
      "u is present in this newlist \n",
      "u is  in new list\n"
     ]
    }
   ],
   "source": [
    "# in --- \n",
    "\n",
    "newlist = [12,43,75,23,10] \n",
    "\n",
    "u = 43 \n",
    "\n",
    "if(u  in  newlist):\n",
    "    print(\"u is present in this newlist \")\n",
    "else:\n",
    "    print(\"u is not in new list\")\n",
    "\n",
    "\n",
    "\n",
    "# not in \n",
    "\n",
    "\n",
    "if(u  not in  newlist):\n",
    "    print(\"u is no in this newlist \")\n",
    "else:\n",
    "    print(\"u is  in new list\")\n"
   ]
  },
  {
   "cell_type": "code",
   "execution_count": null,
   "metadata": {},
   "outputs": [
    {
     "name": "stdout",
     "output_type": "stream",
     "text": [
      "True\n",
      "False\n",
      "True\n"
     ]
    }
   ],
   "source": [
    "# is , is not \n",
    "\n",
    "list1 = [\"piyush\"  \"sachin\"]\n",
    "list2 = [\"piyush\"  \"sachin\"]\n",
    "\n",
    "list3 = list2  \n",
    "\n",
    "print (list3 is list2 )\n",
    "print(list1 is list3 )\n",
    "print(list1 is not list3 )\n"
   ]
  },
  {
   "cell_type": "code",
   "execution_count": null,
   "metadata": {},
   "outputs": [
    {
     "name": "stdout",
     "output_type": "stream",
     "text": [
      "12\n",
      "+\n",
      "2\n"
     ]
    },
    {
     "ename": "ValueError",
     "evalue": "invalid literal for int() with base 10: ''",
     "output_type": "error",
     "traceback": [
      "\u001b[1;31m---------------------------------------------------------------------------\u001b[0m",
      "\u001b[1;31mValueError\u001b[0m                                Traceback (most recent call last)",
      "Cell \u001b[1;32mIn[3], line 11\u001b[0m\n\u001b[0;32m      9\u001b[0m \u001b[38;5;28mprint\u001b[39m(ii)\n\u001b[0;32m     10\u001b[0m \u001b[38;5;28mprint\u001b[39m(kk)\n\u001b[1;32m---> 11\u001b[0m c \u001b[38;5;241m=\u001b[39m \u001b[38;5;28;43mint\u001b[39;49m\u001b[43m(\u001b[49m\u001b[43ma\u001b[49m\u001b[43m)\u001b[49m\u001b[38;5;241m+\u001b[39m\u001b[38;5;28mint\u001b[39m(b)\n\u001b[0;32m     12\u001b[0m \u001b[38;5;28mprint\u001b[39m(c)\n",
      "\u001b[1;31mValueError\u001b[0m: invalid literal for int() with base 10: ''"
     ]
    }
   ],
   "source": [
    "\n",
    "\n",
    "a  = input(\"give a number\")\n",
    "b = input (\"give another number\")\n",
    "\n",
    "u  = input(\" enter a boolean Value\")\n",
    "ii  = input( \" enter a boolean Value\")\n",
    "\n",
    "kk  =  bool(u)+ bool(ii) \n",
    "print(u)\n",
    "print(ii)\n",
    "print(kk)\n",
    "c = int(a)+int(b)\n",
    "print(c)\n",
    "\n",
    "\n"
   ]
  },
  {
   "cell_type": "code",
   "execution_count": null,
   "metadata": {},
   "outputs": [
    {
     "name": "stdout",
     "output_type": "stream",
     "text": [
      " you are in school\n"
     ]
    }
   ],
   "source": [
    "age  =  15 \n",
    "\n",
    "if age  >= 18:\n",
    "    print(\"you are an adult\")\n",
    "elif age < 18 and age >10 :\n",
    "    print(\" you are in school\")   \n",
    "else:\n",
    "    print(\"you are child \")    \n",
    "\n",
    "\n"
   ]
  },
  {
   "cell_type": "code",
   "execution_count": null,
   "metadata": {},
   "outputs": [
    {
     "name": "stdout",
     "output_type": "stream",
     "text": [
      "sohanAge > 17 and sohanAge < 25  True\n",
      "sohanAge > 10 or sohanAge < 18  True\n",
      "sohanAge > 10 and  sohanAge < 18  True\n"
     ]
    }
   ],
   "source": [
    "sohanAge  = 18 \n",
    "\n",
    "# and -- it will check all condition \n",
    "# or --- if one condition is true it will return true  \n",
    "# not ---  it will return reverse (true , false)\n",
    "\n",
    "# ye and operator  ka example hai   --- select multiple line and press ctrl + / \n",
    "\n",
    "print(\"sohanAge > 17 and sohanAge < 25 \" , sohanAge > 17 and sohanAge < 25 )\n",
    "\n",
    "\n",
    "print(\"sohanAge > 10 or sohanAge < 18 \" , sohanAge > 10 or sohanAge < 18 )\n",
    "\n",
    "\n",
    "\n",
    "print(\"sohanAge > 10 and  sohanAge < 18 \" , not(sohanAge > 10 and sohanAge < 18) )"
   ]
  },
  {
   "cell_type": "code",
   "execution_count": null,
   "metadata": {},
   "outputs": [
    {
     "name": "stdout",
     "output_type": "stream",
     "text": [
      "3\n"
     ]
    }
   ],
   "source": [
    "firstNumber = int(input(\"enter first number :\"))\n",
    "operator  = input(\"enter your operator (+, -, *, /, %) :\")\n",
    "secnumber = int(input(\"enter your second number :\"))\n",
    "\n",
    "if operator == \"+\" :\n",
    "    print(firstNumber + secnumber)\n",
    "elif operator == \"-\" :\n",
    "    print(firstNumber - secnumber)  \n",
    "elif operator == \"*\" :\n",
    "    print(firstNumber * secnumber)    \n",
    "elif operator == \"/\" :\n",
    "    print(firstNumber / secnumber)    \n",
    "elif operator == \"%\" :\n",
    "    print(firstNumber % secnumber)   \n",
    "else :\n",
    "    print(\"invalid operator\")                   "
   ]
  },
  {
   "cell_type": "code",
   "execution_count": null,
   "metadata": {},
   "outputs": [
    {
     "name": "stdout",
     "output_type": "stream",
     "text": [
      "2\n",
      "4\n",
      "6\n",
      "8\n",
      "10\n",
      "12\n",
      "14\n",
      "16\n",
      "18\n",
      "20\n"
     ]
    }
   ],
   "source": [
    "i = 1\n",
    "while(i<=10):\n",
    "    print(2*i)\n",
    "    i = i+1 "
   ]
  },
  {
   "cell_type": "code",
   "execution_count": null,
   "metadata": {},
   "outputs": [
    {
     "name": "stdout",
     "output_type": "stream",
     "text": [
      "*\n",
      "**\n",
      "***\n",
      "****\n",
      "*****\n"
     ]
    }
   ],
   "source": [
    "i  = 1 \n",
    "while(i<=5):\n",
    "    print(i*\"*\")\n",
    "    i = i+1 \n",
    "\n"
   ]
  },
  {
   "cell_type": "code",
   "execution_count": null,
   "metadata": {},
   "outputs": [
    {
     "name": "stdout",
     "output_type": "stream",
     "text": [
      "sachin\n"
     ]
    }
   ],
   "source": [
    "print(\"sachin\")"
   ]
  },
  {
   "cell_type": "code",
   "execution_count": null,
   "metadata": {},
   "outputs": [],
   "source": [
    "  \n",
    "i = 1  \n",
    "while( i<=5):\n",
    "    j = 1 \n",
    "    while j<=i :\n",
    "        print(\"*\", end=\"\" )\n",
    "        j=j+1 \n",
    "    print() \n",
    "    i = i+1    "
   ]
  },
  {
   "cell_type": "code",
   "execution_count": null,
   "metadata": {},
   "outputs": [
    {
     "name": "stdout",
     "output_type": "stream",
     "text": [
      "25\n"
     ]
    }
   ],
   "source": [
    "# Q.1 Write a program for arithmatic operators\n",
    "a  = int(input(\"write a number\"))\n",
    "b = int(input (\"write anaother number\"))\n",
    "\n",
    "c = a + b \n",
    "\n",
    "print(c)\n",
    "\n",
    "\n",
    "\n"
   ]
  },
  {
   "cell_type": "code",
   "execution_count": 7,
   "metadata": {},
   "outputs": [
    {
     "name": "stdout",
     "output_type": "stream",
     "text": [
      "23\n",
      "new J  28\n"
     ]
    }
   ],
   "source": [
    "#Q.2 Write a program for assignment operators\n",
    "\n",
    "j = int(input(\"write a number\"))\n",
    "\n",
    "print(j)\n",
    "\n",
    "j  = j+5 \n",
    "\n",
    "print(\"new J \", j )"
   ]
  }
 ],
 "metadata": {
  "kernelspec": {
   "display_name": "Python 3",
   "language": "python",
   "name": "python3"
  },
  "language_info": {
   "codemirror_mode": {
    "name": "ipython",
    "version": 3
   },
   "file_extension": ".py",
   "mimetype": "text/x-python",
   "name": "python",
   "nbconvert_exporter": "python",
   "pygments_lexer": "ipython3",
   "version": "3.12.6"
  }
 },
 "nbformat": 4,
 "nbformat_minor": 2
}
